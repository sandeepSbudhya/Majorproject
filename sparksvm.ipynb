{
 "cells": [
  {
   "cell_type": "code",
   "execution_count": 17,
   "id": "9548ee9a",
   "metadata": {},
   "outputs": [],
   "source": [
    "import sys\n",
    "import os\n",
    "import pandas as pd\n",
    "import numpy as np\n",
    "from pyspark.mllib.feature import StandardScaler\n",
    "from pyspark.ml.classification import RandomForestClassifier\n",
    "from matplotlib import pyplot as plt\n",
    "from matplotlib.pyplot import figure\n",
    "from pyspark.sql import SparkSession\n",
    "from pyspark.ml.linalg import Vectors\n",
    "from pyspark.ml.feature import VectorSlicer\n",
    "from pyspark.ml.evaluation import MulticlassClassificationEvaluator"
   ]
  },
  {
   "cell_type": "code",
   "execution_count": 2,
   "id": "5549565d",
   "metadata": {},
   "outputs": [
    {
     "name": "stderr",
     "output_type": "stream",
     "text": [
      "22/02/07 23:07:49 WARN Utils: Your hostname, sandeep-pc resolves to a loopback address: 127.0.1.1; using 192.168.1.14 instead (on interface enp4s0)\n",
      "22/02/07 23:07:49 WARN Utils: Set SPARK_LOCAL_IP if you need to bind to another address\n",
      "WARNING: An illegal reflective access operation has occurred\n",
      "WARNING: Illegal reflective access by org.apache.spark.unsafe.Platform (file:/home/sandeep/anaconda3/envs/pysparkenv/lib/python3.9/site-packages/pyspark/jars/spark-unsafe_2.12-3.1.2.jar) to constructor java.nio.DirectByteBuffer(long,int)\n",
      "WARNING: Please consider reporting this to the maintainers of org.apache.spark.unsafe.Platform\n",
      "WARNING: Use --illegal-access=warn to enable warnings of further illegal reflective access operations\n",
      "WARNING: All illegal access operations will be denied in a future release\n",
      "22/02/07 23:07:49 WARN NativeCodeLoader: Unable to load native-hadoop library for your platform... using builtin-java classes where applicable\n",
      "Using Spark's default log4j profile: org/apache/spark/log4j-defaults.properties\n",
      "Setting default log level to \"WARN\".\n",
      "To adjust logging level use sc.setLogLevel(newLevel). For SparkR, use setLogLevel(newLevel).\n",
      "22/02/07 23:07:50 WARN Utils: Service 'SparkUI' could not bind on port 4040. Attempting port 4041.\n"
     ]
    }
   ],
   "source": [
    "spark = SparkSession.builder.config(\"spark.executor.pyspark.memory\", \"6g\") \\\n",
    "        .config(\"spark.executor.memory\", \"6g\").config(\"spark.driver.memory\", \"6g\") \\\n",
    "        .config(\"spark.driver.maxResultSize\", \"6g\").getOrCreate()"
   ]
  },
  {
   "cell_type": "code",
   "execution_count": 3,
   "id": "a8d6956e",
   "metadata": {},
   "outputs": [
    {
     "name": "stderr",
     "output_type": "stream",
     "text": [
      "                                                                                \r"
     ]
    }
   ],
   "source": [
    "df = spark.read.csv('data/datasetfinal.csv', sep=',', inferSchema=True, header=True).select(\"Duration\",\"Dst_bytes\",\"Flag\",\"Hot\",\"Num_compromised\",\"Count\",\"Serror_rate\",\"Rerror_rate\",\"Same_srv_rate\",\"Diff_srv_rate\",\"Srv_count\",\"Srv_serror_rate\",\"Srv_rerror_rate\",\"Srv_diff_host_rate\",\"Dst_host_count\",\"Dst_host_srv_count\",\"Dst_host_same_srv_rate\",\"Dst_host_diff_srv_rate\",\"Dst_host_same_src_port_rate\",\"Dst_host_srv_diff_host_rate\",\"Dst_host_serror_rate\",\"Dst_host_srv_serror_rate\",\"Dst_host_rerror_rate\",\"class\",\"class_index\")"
   ]
  },
  {
   "cell_type": "code",
   "execution_count": 4,
   "id": "85150451",
   "metadata": {},
   "outputs": [
    {
     "data": {
      "text/html": [
       "\n",
       "        <div>\n",
       "            <p><b>SparkContext</b></p>\n",
       "\n",
       "            <p><a href=\"http://192.168.1.14:4041\">Spark UI</a></p>\n",
       "\n",
       "            <dl>\n",
       "              <dt>Version</dt>\n",
       "                <dd><code>v3.1.2</code></dd>\n",
       "              <dt>Master</dt>\n",
       "                <dd><code>local[*]</code></dd>\n",
       "              <dt>AppName</dt>\n",
       "                <dd><code>pyspark-shell</code></dd>\n",
       "            </dl>\n",
       "        </div>\n",
       "        "
      ],
      "text/plain": [
       "<SparkContext master=local[*] appName=pyspark-shell>"
      ]
     },
     "execution_count": 4,
     "metadata": {},
     "output_type": "execute_result"
    }
   ],
   "source": [
    "spark.sparkContext"
   ]
  },
  {
   "cell_type": "code",
   "execution_count": 5,
   "id": "0eb7c839",
   "metadata": {},
   "outputs": [],
   "source": [
    "# df.dtypes"
   ]
  },
  {
   "cell_type": "code",
   "execution_count": 6,
   "id": "18dfaee2",
   "metadata": {},
   "outputs": [],
   "source": [
    "catcols = [x for (x, dataType) in df.dtypes if dataType == \"string\"]\n",
    "numcols = [x for (x, dataType) in df.dtypes if ((dataType ==\"int\") | (dataType == \"double\") & (x != \"class_index\"))]"
   ]
  },
  {
   "cell_type": "code",
   "execution_count": 7,
   "id": "3ef78a1a",
   "metadata": {},
   "outputs": [],
   "source": [
    "from pyspark.ml.feature import StandardScaler, VectorAssembler \n",
    "vector_assembler = VectorAssembler(inputCols = numcols, outputCol = \"features\")\n",
    "temptrain = vector_assembler.setHandleInvalid(\"skip\").transform(df).select(\"class_index\",\"features\")"
   ]
  },
  {
   "cell_type": "code",
   "execution_count": 8,
   "id": "44101a99",
   "metadata": {},
   "outputs": [],
   "source": [
    "# temptrain.select(\"class_index\",\"features\").show(5)"
   ]
  },
  {
   "cell_type": "code",
   "execution_count": 9,
   "id": "9a5e2deb",
   "metadata": {},
   "outputs": [
    {
     "name": "stderr",
     "output_type": "stream",
     "text": [
      "22/02/07 23:08:07 WARN package: Truncated the string representation of a plan since it was too large. This behavior can be adjusted by setting 'spark.sql.debug.maxToStringFields'.\n",
      "                                                                                \r"
     ]
    }
   ],
   "source": [
    "df = StandardScaler(inputCol = \"features\", outputCol=\"scaledfeatures\").fit(temptrain).transform(temptrain)"
   ]
  },
  {
   "cell_type": "code",
   "execution_count": 10,
   "id": "bbece1a0",
   "metadata": {},
   "outputs": [],
   "source": [
    "train, test = df.randomSplit([0.7, 0.3], seed = 2022)"
   ]
  },
  {
   "cell_type": "code",
   "execution_count": 11,
   "id": "239aa6f8",
   "metadata": {},
   "outputs": [
    {
     "name": "stderr",
     "output_type": "stream",
     "text": [
      "\r",
      "[Stage 4:>                                                          (0 + 1) / 1]\r"
     ]
    },
    {
     "name": "stdout",
     "output_type": "stream",
     "text": [
      "+--------------------+\n",
      "|      scaledfeatures|\n",
      "+--------------------+\n",
      "|(23,[1,5,6,11,14,...|\n",
      "|(23,[1,5,6,11,14,...|\n",
      "|(23,[1,5,6,11,14,...|\n",
      "|(23,[1,5,6,11,14,...|\n",
      "|(23,[1,5,6,11,14,...|\n",
      "+--------------------+\n",
      "only showing top 5 rows\n",
      "\n"
     ]
    },
    {
     "name": "stderr",
     "output_type": "stream",
     "text": [
      "\r",
      "                                                                                \r"
     ]
    }
   ],
   "source": [
    "train.select(\"scaledfeatures\").show(5)"
   ]
  },
  {
   "cell_type": "code",
   "execution_count": 12,
   "id": "abf357cc",
   "metadata": {},
   "outputs": [
    {
     "name": "stderr",
     "output_type": "stream",
     "text": [
      "                                                                                \r"
     ]
    }
   ],
   "source": [
    "rf = RandomForestClassifier(featuresCol = 'scaledfeatures', labelCol = 'class_index').fit(train)"
   ]
  },
  {
   "cell_type": "code",
   "execution_count": 14,
   "id": "3c863d1b",
   "metadata": {},
   "outputs": [],
   "source": [
    "predictions = rf.transform(test)"
   ]
  },
  {
   "cell_type": "code",
   "execution_count": 15,
   "id": "28097035",
   "metadata": {},
   "outputs": [
    {
     "name": "stderr",
     "output_type": "stream",
     "text": [
      "\r",
      "[Stage 21:>                                                         (0 + 1) / 1]\r"
     ]
    },
    {
     "name": "stdout",
     "output_type": "stream",
     "text": [
      "+-----------+--------------------+--------------------+--------------------+--------------------+----------+\n",
      "|class_index|            features|      scaledfeatures|       rawPrediction|         probability|prediction|\n",
      "+-----------+--------------------+--------------------+--------------------+--------------------+----------+\n",
      "|        0.0|(23,[1,5,6,11,14,...|(23,[1,5,6,11,14,...|[0.03347810503362...|[0.00167390525168...|       2.0|\n",
      "|        0.0|(23,[1,5,6,11,14,...|(23,[1,5,6,11,14,...|[0.14719238410944...|[0.00735961920547...|       2.0|\n",
      "|        0.0|(23,[1,5,6,11,14,...|(23,[1,5,6,11,14,...|[14.5566043852152...|[0.72783021926076...|       0.0|\n",
      "|        0.0|(23,[1,5,6,11,14,...|(23,[1,5,6,11,14,...|[14.5566043852152...|[0.72783021926076...|       0.0|\n",
      "|        0.0|(23,[1,5,6,11,14,...|(23,[1,5,6,11,14,...|[14.0940975024573...|[0.70470487512286...|       0.0|\n",
      "|        0.0|(23,[1,5,6,11,14,...|(23,[1,5,6,11,14,...|[14.0940975024573...|[0.70470487512286...|       0.0|\n",
      "|        0.0|(23,[1,5,6,11,14,...|(23,[1,5,6,11,14,...|[16.5568281126331...|[0.82784140563165...|       0.0|\n",
      "|        0.0|(23,[1,5,6,11,14,...|(23,[1,5,6,11,14,...|[15.6705680735621...|[0.78352840367810...|       0.0|\n",
      "|        0.0|(23,[1,5,6,11,14,...|(23,[1,5,6,11,14,...|[16.0943212298752...|[0.80471606149376...|       0.0|\n",
      "|        0.0|(23,[1,5,6,11,14,...|(23,[1,5,6,11,14,...|[16.5568281126331...|[0.82784140563165...|       0.0|\n",
      "|        0.0|(23,[1,5,6,11,14,...|(23,[1,5,6,11,14,...|[16.5568281126331...|[0.82784140563165...|       0.0|\n",
      "|        0.0|(23,[1,5,6,11,14,...|(23,[1,5,6,11,14,...|[16.5568281126331...|[0.82784140563165...|       0.0|\n",
      "|        0.0|(23,[1,5,6,11,14,...|(23,[1,5,6,11,14,...|[16.5568281126331...|[0.82784140563165...|       0.0|\n",
      "|        0.0|(23,[1,5,6,11,14,...|(23,[1,5,6,11,14,...|[15.6705680735621...|[0.78352840367810...|       0.0|\n",
      "|        0.0|(23,[1,5,6,11,14,...|(23,[1,5,6,11,14,...|[15.6705680735621...|[0.78352840367810...|       0.0|\n",
      "|        0.0|(23,[1,5,6,11,14,...|(23,[1,5,6,11,14,...|[16.0943212298752...|[0.80471606149376...|       0.0|\n",
      "|        0.0|(23,[1,5,6,11,14,...|(23,[1,5,6,11,14,...|[16.5577065426563...|[0.82788532713281...|       0.0|\n",
      "|        0.0|(23,[1,5,6,11,14,...|(23,[1,5,6,11,14,...|[16.5577065426563...|[0.82788532713281...|       0.0|\n",
      "|        0.0|(23,[1,5,6,11,14,...|(23,[1,5,6,11,14,...|[16.5577065426563...|[0.82788532713281...|       0.0|\n",
      "|        0.0|(23,[1,5,6,11,14,...|(23,[1,5,6,11,14,...|[16.5577065426563...|[0.82788532713281...|       0.0|\n",
      "+-----------+--------------------+--------------------+--------------------+--------------------+----------+\n",
      "only showing top 20 rows\n",
      "\n"
     ]
    },
    {
     "name": "stderr",
     "output_type": "stream",
     "text": [
      "\r",
      "                                                                                \r"
     ]
    }
   ],
   "source": [
    "predictions.show()"
   ]
  },
  {
   "cell_type": "code",
   "execution_count": 18,
   "id": "8beb7059",
   "metadata": {},
   "outputs": [],
   "source": [
    "evaluator = MulticlassClassificationEvaluator( labelCol=\"class_index\", predictionCol=\"prediction\", metricName=\"accuracy\")"
   ]
  },
  {
   "cell_type": "code",
   "execution_count": 19,
   "id": "09f82ead",
   "metadata": {},
   "outputs": [
    {
     "name": "stderr",
     "output_type": "stream",
     "text": [
      "                                                                                \r"
     ]
    },
    {
     "data": {
      "text/plain": [
       "0.9981956495559543"
      ]
     },
     "execution_count": 19,
     "metadata": {},
     "output_type": "execute_result"
    }
   ],
   "source": [
    "accuracy = evaluator.evaluate(predictions)\n",
    "accuracy"
   ]
  },
  {
   "cell_type": "code",
   "execution_count": 33,
   "id": "5660ea9a",
   "metadata": {},
   "outputs": [
    {
     "data": {
      "text/plain": [
       "SparseVector(38, {0: 0.0019, 1: 0.064, 2: 0.004, 4: 0.0001, 6: 0.0002, 8: 0.0271, 9: 0.0003, 19: 0.1449, 20: 0.198, 21: 0.0005, 22: 0.019, 23: 0.0005, 24: 0.0004, 25: 0.0708, 26: 0.0967, 27: 0.0085, 28: 0.0023, 29: 0.0633, 30: 0.0408, 31: 0.0538, 32: 0.1625, 33: 0.0021, 34: 0.0133, 35: 0.0185, 36: 0.0007, 37: 0.0058})"
      ]
     },
     "execution_count": 33,
     "metadata": {},
     "output_type": "execute_result"
    }
   ],
   "source": [
    "# rf.featureImportances"
   ]
  },
  {
   "cell_type": "code",
   "execution_count": 15,
   "id": "1baf764d",
   "metadata": {},
   "outputs": [
    {
     "data": {
      "text/plain": [
       "<BarContainer object of 38 artists>"
      ]
     },
     "execution_count": 15,
     "metadata": {},
     "output_type": "execute_result"
    },
    {
     "data": {
      "image/png": "[encoded data removed]",
      "text/plain": [
       "<Figure size 1200x1000 with 1 Axes>"
      ]
     },
     "metadata": {
      "needs_background": "light"
     },
     "output_type": "display_data"
    }
   ],
   "source": [
    "# figure(figsize=(12, 10), dpi=100)\n",
    "# plt.barh(numcols, rf.featureImportances)"
   ]
  },
  {
   "cell_type": "code",
   "execution_count": 37,
   "id": "5a3a0025",
   "metadata": {},
   "outputs": [
    {
     "ename": "TypeError",
     "evalue": "setIndices() takes 2 positional arguments but 3 were given",
     "output_type": "error",
     "traceback": [
      "\u001b[0;31m---------------------------------------------------------------------------\u001b[0m",
      "\u001b[0;31mTypeError\u001b[0m                                 Traceback (most recent call last)",
      "\u001b[0;32m/tmp/ipykernel_24113/2742130843.py\u001b[0m in \u001b[0;36m<module>\u001b[0;34m\u001b[0m\n\u001b[0;32m----> 1\u001b[0;31m \u001b[0mtrain\u001b[0m \u001b[0;34m=\u001b[0m \u001b[0mVectorSlicer\u001b[0m\u001b[0;34m(\u001b[0m\u001b[0minputCol\u001b[0m\u001b[0;34m=\u001b[0m\u001b[0;34m\"scaledfeatures\"\u001b[0m\u001b[0;34m,\u001b[0m \u001b[0moutputCol\u001b[0m\u001b[0;34m=\u001b[0m\u001b[0;34m\"ssifeatures\"\u001b[0m\u001b[0;34m)\u001b[0m\u001b[0;34m.\u001b[0m\u001b[0msetIndices\u001b[0m\u001b[0;34m(\u001b[0m\u001b[0;36m0\u001b[0m\u001b[0;34m,\u001b[0m\u001b[0;36m1\u001b[0m\u001b[0;34m)\u001b[0m\u001b[0;34m.\u001b[0m\u001b[0mtransform\u001b[0m\u001b[0;34m(\u001b[0m\u001b[0mtrain\u001b[0m\u001b[0;34m)\u001b[0m\u001b[0;34m\u001b[0m\u001b[0;34m\u001b[0m\u001b[0m\n\u001b[0m",
      "\u001b[0;31mTypeError\u001b[0m: setIndices() takes 2 positional arguments but 3 were given"
     ]
    }
   ],
   "source": [
    "# train = VectorSlicer(inputCol=\"scaledfeatures\", outputCol=\"ssifeatures\").setIndices(0,1).transform(train)"
   ]
  },
  {
   "cell_type": "code",
   "execution_count": 32,
   "id": "bc7e94d3",
   "metadata": {},
   "outputs": [
    {
     "name": "stderr",
     "output_type": "stream",
     "text": [
      "[Stage 27:>                                                         (0 + 1) / 1]\r"
     ]
    },
    {
     "name": "stdout",
     "output_type": "stream",
     "text": [
      "+-----------+\n",
      "|ssifeatures|\n",
      "+-----------+\n",
      "|  (1,[],[])|\n",
      "|  (1,[],[])|\n",
      "|  (1,[],[])|\n",
      "|  (1,[],[])|\n",
      "|  (1,[],[])|\n",
      "|  (1,[],[])|\n",
      "|  (1,[],[])|\n",
      "|  (1,[],[])|\n",
      "|  (1,[],[])|\n",
      "|  (1,[],[])|\n",
      "+-----------+\n",
      "only showing top 10 rows\n",
      "\n"
     ]
    },
    {
     "name": "stderr",
     "output_type": "stream",
     "text": [
      "                                                                                \r"
     ]
    }
   ],
   "source": [
    "# df.select(\"ssifeatures\").show(10)"
   ]
  },
  {
   "cell_type": "code",
   "execution_count": null,
   "id": "b2ba292f",
   "metadata": {},
   "outputs": [],
   "source": []
  }
 ],
 "metadata": {
  "kernelspec": {
   "display_name": "Python 3 (ipykernel)",
   "language": "python",
   "name": "python3"
  },
  "language_info": {
   "codemirror_mode": {
    "name": "ipython",
    "version": 3
   },
   "file_extension": ".py",
   "mimetype": "text/x-python",
   "name": "python",
   "nbconvert_exporter": "python",
   "pygments_lexer": "ipython3",
   "version": "3.9.7"
  }
 },
 "nbformat": 4,
 "nbformat_minor": 5
}
