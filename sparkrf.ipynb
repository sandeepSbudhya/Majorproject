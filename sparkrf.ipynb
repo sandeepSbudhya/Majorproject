{
 "cells": [
  {
   "cell_type": "code",
   "execution_count": 1,
   "id": "9548ee9a",
   "metadata": {},
   "outputs": [],
   "source": [
    "import sys\n",
    "import os\n",
    "import pandas as pd\n",
    "import numpy as np\n",
    "from pyspark.mllib.feature import StandardScaler\n",
    "from pyspark.ml.classification import RandomForestClassifier\n",
    "from pyspark.ml.classification import NaiveBayes\n",
    "from matplotlib import pyplot as plt\n",
    "from matplotlib.pyplot import figure\n",
    "from pyspark.sql import SparkSession\n",
    "from pyspark.ml.linalg import Vectors\n",
    "from pyspark.ml.feature import VectorSlicer\n",
    "from pyspark.ml.evaluation import MulticlassClassificationEvaluator"
   ]
  },
  {
   "cell_type": "code",
   "execution_count": 2,
   "id": "5549565d",
   "metadata": {},
   "outputs": [
    {
     "name": "stderr",
     "output_type": "stream",
     "text": [
      "22/03/31 10:55:00 WARN Utils: Your hostname, sandeepPC resolves to a loopback address: 127.0.1.1; using 192.168.29.58 instead (on interface enp4s0)\n",
      "22/03/31 10:55:00 WARN Utils: Set SPARK_LOCAL_IP if you need to bind to another address\n",
      "WARNING: An illegal reflective access operation has occurred\n",
      "WARNING: Illegal reflective access by org.apache.spark.unsafe.Platform (file:/home/sandeep/anaconda3/envs/sparkenv/lib/python3.9/site-packages/pyspark/jars/spark-unsafe_2.12-3.1.2.jar) to constructor java.nio.DirectByteBuffer(long,int)\n",
      "WARNING: Please consider reporting this to the maintainers of org.apache.spark.unsafe.Platform\n",
      "WARNING: Use --illegal-access=warn to enable warnings of further illegal reflective access operations\n",
      "WARNING: All illegal access operations will be denied in a future release\n",
      "22/03/31 10:55:00 WARN NativeCodeLoader: Unable to load native-hadoop library for your platform... using builtin-java classes where applicable\n",
      "Using Spark's default log4j profile: org/apache/spark/log4j-defaults.properties\n",
      "Setting default log level to \"WARN\".\n",
      "To adjust logging level use sc.setLogLevel(newLevel). For SparkR, use setLogLevel(newLevel).\n"
     ]
    }
   ],
   "source": [
    "spark = SparkSession.builder.config(\"spark.executor.pyspark.memory\", \"6g\") \\\n",
    "        .config(\"spark.executor.memory\", \"6g\").config(\"spark.driver.memory\", \"6g\") \\\n",
    "        .config(\"spark.driver.maxResultSize\", \"6g\").getOrCreate()"
   ]
  },
  {
   "cell_type": "code",
   "execution_count": 3,
   "id": "a8d6956e",
   "metadata": {},
   "outputs": [
    {
     "name": "stdout",
     "output_type": "stream",
     "text": [
      "1\n"
     ]
    },
    {
     "name": "stderr",
     "output_type": "stream",
     "text": [
      "                                                                                \r"
     ]
    }
   ],
   "source": [
    "select_cols = input()\n",
    "if(int(select_cols)):\n",
    "    df = spark.read.csv('hdfs://localhost:9000/user/sandeep/data/datasetfinal.csv', sep=',', inferSchema=True, header=True).select(\"Duration\",\"Dst_bytes\",\"Flag\",\"Hot\",\"Num_compromised\",\"Count\",\"Serror_rate\",\"Rerror_rate\",\"Same_srv_rate\",\"Diff_srv_rate\",\"Srv_count\",\"Srv_serror_rate\",\"Srv_rerror_rate\",\"Srv_diff_host_rate\",\"Dst_host_count\",\"Dst_host_srv_count\",\"Dst_host_same_srv_rate\",\"Dst_host_diff_srv_rate\",\"Dst_host_same_src_port_rate\",\"Dst_host_srv_diff_host_rate\",\"Dst_host_serror_rate\",\"Dst_host_srv_serror_rate\",\"Dst_host_rerror_rate\",\"class\",\"class_index\")\n",
    "else:\n",
    "    df = spark.read.csv('hdfs://localhost:9000/user/sandeep/data/datasetfinal.csv', sep=',', inferSchema=True, header=True)"
   ]
  },
  {
   "cell_type": "code",
   "execution_count": 4,
   "id": "85150451",
   "metadata": {},
   "outputs": [
    {
     "data": {
      "text/html": [
       "\n",
       "        <div>\n",
       "            <p><b>SparkContext</b></p>\n",
       "\n",
       "            <p><a href=\"http://192.168.29.58:4040\">Spark UI</a></p>\n",
       "\n",
       "            <dl>\n",
       "              <dt>Version</dt>\n",
       "                <dd><code>v3.1.2</code></dd>\n",
       "              <dt>Master</dt>\n",
       "                <dd><code>local[*]</code></dd>\n",
       "              <dt>AppName</dt>\n",
       "                <dd><code>pyspark-shell</code></dd>\n",
       "            </dl>\n",
       "        </div>\n",
       "        "
      ],
      "text/plain": [
       "<SparkContext master=local[*] appName=pyspark-shell>"
      ]
     },
     "execution_count": 4,
     "metadata": {},
     "output_type": "execute_result"
    }
   ],
   "source": [
    "spark.sparkContext"
   ]
  },
  {
   "cell_type": "code",
   "execution_count": 5,
   "id": "0eb7c839",
   "metadata": {},
   "outputs": [
    {
     "data": {
      "text/plain": [
       "[('Duration', 'int'),\n",
       " ('Dst_bytes', 'int'),\n",
       " ('Flag', 'int'),\n",
       " ('Hot', 'int'),\n",
       " ('Num_compromised', 'int'),\n",
       " ('Count', 'int'),\n",
       " ('Serror_rate', 'int'),\n",
       " ('Rerror_rate', 'double'),\n",
       " ('Same_srv_rate', 'double'),\n",
       " ('Diff_srv_rate', 'double'),\n",
       " ('Srv_count', 'double'),\n",
       " ('Srv_serror_rate', 'double'),\n",
       " ('Srv_rerror_rate', 'double'),\n",
       " ('Srv_diff_host_rate', 'double'),\n",
       " ('Dst_host_count', 'int'),\n",
       " ('Dst_host_srv_count', 'int'),\n",
       " ('Dst_host_same_srv_rate', 'double'),\n",
       " ('Dst_host_diff_srv_rate', 'double'),\n",
       " ('Dst_host_same_src_port_rate', 'double'),\n",
       " ('Dst_host_srv_diff_host_rate', 'double'),\n",
       " ('Dst_host_serror_rate', 'double'),\n",
       " ('Dst_host_srv_serror_rate', 'double'),\n",
       " ('Dst_host_rerror_rate', 'double'),\n",
       " ('class', 'string'),\n",
       " ('class_index', 'double')]"
      ]
     },
     "execution_count": 5,
     "metadata": {},
     "output_type": "execute_result"
    }
   ],
   "source": [
    "df.dtypes"
   ]
  },
  {
   "cell_type": "code",
   "execution_count": 6,
   "id": "18dfaee2",
   "metadata": {},
   "outputs": [],
   "source": [
    "catcols = [x for (x, dataType) in df.dtypes if dataType == \"string\"]\n",
    "numcols = [x for (x, dataType) in df.dtypes if ((dataType ==\"int\") | (dataType == \"double\") & (x != \"class_index\"))]"
   ]
  },
  {
   "cell_type": "code",
   "execution_count": 7,
   "id": "8789f85a",
   "metadata": {},
   "outputs": [
    {
     "data": {
      "text/plain": [
       "['Duration',\n",
       " 'Dst_bytes',\n",
       " 'Flag',\n",
       " 'Hot',\n",
       " 'Num_compromised',\n",
       " 'Count',\n",
       " 'Serror_rate',\n",
       " 'Rerror_rate',\n",
       " 'Same_srv_rate',\n",
       " 'Diff_srv_rate',\n",
       " 'Srv_count',\n",
       " 'Srv_serror_rate',\n",
       " 'Srv_rerror_rate',\n",
       " 'Srv_diff_host_rate',\n",
       " 'Dst_host_count',\n",
       " 'Dst_host_srv_count',\n",
       " 'Dst_host_same_srv_rate',\n",
       " 'Dst_host_diff_srv_rate',\n",
       " 'Dst_host_same_src_port_rate',\n",
       " 'Dst_host_srv_diff_host_rate',\n",
       " 'Dst_host_serror_rate',\n",
       " 'Dst_host_srv_serror_rate',\n",
       " 'Dst_host_rerror_rate']"
      ]
     },
     "execution_count": 7,
     "metadata": {},
     "output_type": "execute_result"
    }
   ],
   "source": [
    "numcols"
   ]
  },
  {
   "cell_type": "code",
   "execution_count": 8,
   "id": "3ef78a1a",
   "metadata": {},
   "outputs": [],
   "source": [
    "from pyspark.ml.feature import StandardScaler, VectorAssembler \n",
    "vector_assembler = VectorAssembler(inputCols = numcols, outputCol = \"features\")\n",
    "temptrain = vector_assembler.setHandleInvalid(\"skip\").transform(df).select(\"class_index\",\"features\")"
   ]
  },
  {
   "cell_type": "code",
   "execution_count": 9,
   "id": "44101a99",
   "metadata": {},
   "outputs": [],
   "source": [
    "# temptrain.select(\"class_index\",\"features\").show(5)"
   ]
  },
  {
   "cell_type": "code",
   "execution_count": 10,
   "id": "9a5e2deb",
   "metadata": {},
   "outputs": [
    {
     "name": "stderr",
     "output_type": "stream",
     "text": [
      "22/03/31 10:55:23 WARN package: Truncated the string representation of a plan since it was too large. This behavior can be adjusted by setting 'spark.sql.debug.maxToStringFields'.\n",
      "                                                                                \r"
     ]
    }
   ],
   "source": [
    "df = StandardScaler(inputCol = \"features\", outputCol=\"scaledfeatures\").fit(temptrain).transform(temptrain)"
   ]
  },
  {
   "cell_type": "code",
   "execution_count": 11,
   "id": "bbece1a0",
   "metadata": {},
   "outputs": [],
   "source": [
    "train, test = df.randomSplit([0.7, 0.3], seed = 2022)"
   ]
  },
  {
   "cell_type": "code",
   "execution_count": 12,
   "id": "239aa6f8",
   "metadata": {},
   "outputs": [
    {
     "name": "stderr",
     "output_type": "stream",
     "text": [
      "\r",
      "[Stage 4:>                                                          (0 + 1) / 1]\r"
     ]
    },
    {
     "name": "stdout",
     "output_type": "stream",
     "text": [
      "+--------------------+\n",
      "|      scaledfeatures|\n",
      "+--------------------+\n",
      "|(23,[1,5,6,11,14,...|\n",
      "|(23,[1,5,6,11,14,...|\n",
      "|(23,[1,5,6,11,14,...|\n",
      "|(23,[1,5,6,11,14,...|\n",
      "|(23,[1,5,6,11,14,...|\n",
      "+--------------------+\n",
      "only showing top 5 rows\n",
      "\n"
     ]
    },
    {
     "name": "stderr",
     "output_type": "stream",
     "text": [
      "\r",
      "                                                                                \r"
     ]
    }
   ],
   "source": [
    "train.select(\"scaledfeatures\").show(5)"
   ]
  },
  {
   "cell_type": "code",
   "execution_count": 13,
   "id": "3dad3f9d",
   "metadata": {},
   "outputs": [
    {
     "name": "stdout",
     "output_type": "stream",
     "text": [
      "0\n"
     ]
    }
   ],
   "source": [
    "select_classifier = input()"
   ]
  },
  {
   "cell_type": "code",
   "execution_count": 14,
   "id": "abf357cc",
   "metadata": {},
   "outputs": [
    {
     "name": "stderr",
     "output_type": "stream",
     "text": [
      "                                                                                \r"
     ]
    }
   ],
   "source": [
    "if(int(select_classifier)):\n",
    "    model = RandomForestClassifier(featuresCol = 'scaledfeatures', labelCol = 'class_index').fit(train)\n",
    "else:\n",
    "    model = NaiveBayes(smoothing=1.0, modelType=\"multinomial\", featuresCol = 'scaledfeatures', labelCol = 'class_index').fit(train)"
   ]
  },
  {
   "cell_type": "code",
   "execution_count": 15,
   "id": "3c863d1b",
   "metadata": {},
   "outputs": [],
   "source": [
    "predictions = model.transform(test)"
   ]
  },
  {
   "cell_type": "code",
   "execution_count": 16,
   "id": "28097035",
   "metadata": {},
   "outputs": [
    {
     "name": "stderr",
     "output_type": "stream",
     "text": [
      "\r",
      "[Stage 7:>                                                          (0 + 1) / 1]\r"
     ]
    },
    {
     "name": "stdout",
     "output_type": "stream",
     "text": [
      "+-----------+--------------------+--------------------+--------------------+--------------------+----------+\n",
      "|class_index|            features|      scaledfeatures|       rawPrediction|         probability|prediction|\n",
      "+-----------+--------------------+--------------------+--------------------+--------------------+----------+\n",
      "|        0.0|(23,[1,5,6,11,14,...|(23,[1,5,6,11,14,...|[-16.326620385696...|[0.75557848134042...|       0.0|\n",
      "|        0.0|(23,[1,5,6,11,14,...|(23,[1,5,6,11,14,...|[-20.703135113760...|[0.86732536684012...|       0.0|\n",
      "|        0.0|(23,[1,5,6,11,14,...|(23,[1,5,6,11,14,...|[-22.131355367547...|[0.99997995513078...|       0.0|\n",
      "|        0.0|(23,[1,5,6,11,14,...|(23,[1,5,6,11,14,...|[-22.192098027096...|[0.99998052869209...|       0.0|\n",
      "|        0.0|(23,[1,5,6,11,14,...|(23,[1,5,6,11,14,...|[-30.499637352015...|[0.99999707081234...|       0.0|\n",
      "|        0.0|(23,[1,5,6,11,14,...|(23,[1,5,6,11,14,...|[-30.630260650416...|[0.99999724513132...|       0.0|\n",
      "|        0.0|(23,[1,5,6,11,14,...|(23,[1,5,6,11,14,...|[-24.132675893185...|[0.99999846743289...|       0.0|\n",
      "|        0.0|(23,[1,5,6,11,14,...|(23,[1,5,6,11,14,...|[-29.940420954375...|[0.99999990811498...|       0.0|\n",
      "|        0.0|(23,[1,5,6,11,14,...|(23,[1,5,6,11,14,...|[-32.080333431443...|[0.99999996240917...|       0.0|\n",
      "|        0.0|(23,[1,5,6,11,14,...|(23,[1,5,6,11,14,...|[-21.790968275995...|[0.99999713259674...|       0.0|\n",
      "|        0.0|(23,[1,5,6,11,14,...|(23,[1,5,6,11,14,...|[-26.587239454385...|[0.99999971463823...|       0.0|\n",
      "|        0.0|(23,[1,5,6,11,14,...|(23,[1,5,6,11,14,...|[-27.767278631835...|[0.99999977381489...|       0.0|\n",
      "|        0.0|(23,[1,5,6,11,14,...|(23,[1,5,6,11,14,...|[-27.903102087311...|[0.99999978375047...|       0.0|\n",
      "|        0.0|(23,[1,5,6,11,14,...|(23,[1,5,6,11,14,...|[-30.653061518462...|[0.99999993295337...|       0.0|\n",
      "|        0.0|(23,[1,5,6,11,14,...|(23,[1,5,6,11,14,...|[-31.647896028271...|[0.99999995574267...|       0.0|\n",
      "|        0.0|(23,[1,5,6,11,14,...|(23,[1,5,6,11,14,...|[-35.796434089072...|[0.99999999069728...|       0.0|\n",
      "|        0.0|(23,[1,5,6,11,14,...|(23,[1,5,6,11,14,...|[-20.960345206314...|[0.99999639175791...|       0.0|\n",
      "|        0.0|(23,[1,5,6,11,14,...|(23,[1,5,6,11,14,...|[-21.096168661790...|[0.99999655655983...|       0.0|\n",
      "|        0.0|(23,[1,5,6,11,14,...|(23,[1,5,6,11,14,...|[-21.452714953482...|[0.99999688455886...|       0.0|\n",
      "|        0.0|(23,[1,5,6,11,14,...|(23,[1,5,6,11,14,...|[-21.630988099329...|[0.99999703576343...|       0.0|\n",
      "+-----------+--------------------+--------------------+--------------------+--------------------+----------+\n",
      "only showing top 20 rows\n",
      "\n"
     ]
    },
    {
     "name": "stderr",
     "output_type": "stream",
     "text": [
      "\r",
      "                                                                                \r"
     ]
    }
   ],
   "source": [
    "predictions.show()"
   ]
  },
  {
   "cell_type": "code",
   "execution_count": 17,
   "id": "8beb7059",
   "metadata": {},
   "outputs": [],
   "source": [
    "evaluator = MulticlassClassificationEvaluator( labelCol=\"class_index\", predictionCol=\"prediction\", metricName=\"accuracy\")"
   ]
  },
  {
   "cell_type": "code",
   "execution_count": 18,
   "id": "09f82ead",
   "metadata": {},
   "outputs": [
    {
     "name": "stderr",
     "output_type": "stream",
     "text": [
      "22/03/31 10:56:06 WARN BLAS: Failed to load implementation from: com.github.fommil.netlib.NativeSystemBLAS\n",
      "22/03/31 10:56:06 WARN BLAS: Failed to load implementation from: com.github.fommil.netlib.NativeRefBLAS\n",
      "                                                                                \r"
     ]
    },
    {
     "data": {
      "text/plain": [
       "0.9040231163690373"
      ]
     },
     "execution_count": 18,
     "metadata": {},
     "output_type": "execute_result"
    }
   ],
   "source": [
    "accuracy = evaluator.evaluate(predictions)\n",
    "accuracy"
   ]
  },
  {
   "cell_type": "code",
   "execution_count": 19,
   "id": "5660ea9a",
   "metadata": {},
   "outputs": [],
   "source": [
    "# rf.featureImportances"
   ]
  },
  {
   "cell_type": "code",
   "execution_count": 20,
   "id": "1baf764d",
   "metadata": {},
   "outputs": [],
   "source": [
    "if(int(select_classifier)):\n",
    "    figure(figsize=(12, 10), dpi=100)\n",
    "    plt.barh(numcols, model.featureImportances)"
   ]
  },
  {
   "cell_type": "code",
   "execution_count": null,
   "id": "f04255a4",
   "metadata": {},
   "outputs": [],
   "source": []
  }
 ],
 "metadata": {
  "kernelspec": {
   "display_name": "Python 3 (ipykernel)",
   "language": "python",
   "name": "python3"
  },
  "language_info": {
   "codemirror_mode": {
    "name": "ipython",
    "version": 3
   },
   "file_extension": ".py",
   "mimetype": "text/x-python",
   "name": "python",
   "nbconvert_exporter": "python",
   "pygments_lexer": "ipython3",
   "version": "3.9.11"
  }
 },
 "nbformat": 4,
 "nbformat_minor": 5
}
