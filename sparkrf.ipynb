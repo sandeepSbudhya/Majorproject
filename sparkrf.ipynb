{
 "cells": [
  {
   "cell_type": "code",
   "execution_count": 1,
   "id": "9548ee9a",
   "metadata": {},
   "outputs": [],
   "source": [
    "import sys\n",
    "import os\n",
    "import pandas as pd\n",
    "import numpy as np\n",
    "from pyspark.ml.classification import RandomForestClassificationModel\n",
    "from pyspark.mllib.feature import StandardScaler\n",
    "from pyspark.ml.classification import RandomForestClassifier\n",
    "from pyspark.ml.classification import NaiveBayes\n",
    "from matplotlib import pyplot as plt\n",
    "from matplotlib.pyplot import figure\n",
    "from pyspark.sql import SparkSession\n",
    "from pyspark.ml.linalg import Vectors\n",
    "from pyspark.ml.feature import VectorSlicer\n",
    "from pyspark.ml.evaluation import MulticlassClassificationEvaluator"
   ]
  },
  {
   "cell_type": "code",
   "execution_count": 2,
   "id": "5549565d",
   "metadata": {},
   "outputs": [],
   "source": [
    "spark = SparkSession.builder.config(\"spark.executor.pyspark.memory\", \"6g\") \\\n",
    "        .config(\"spark.executor.memory\", \"6g\").config(\"spark.driver.memory\", \"6g\") \\\n",
    "        .config(\"spark.driver.maxResultSize\", \"6g\").getOrCreate()"
   ]
  },
  {
   "cell_type": "code",
   "execution_count": 3,
   "id": "a8d6956e",
   "metadata": {},
   "outputs": [
    {
     "ename": "KeyboardInterrupt",
     "evalue": "Interrupted by user",
     "output_type": "error",
     "traceback": [
      "\u001b[0;31m---------------------------------------------------------------------------\u001b[0m",
      "\u001b[0;31mKeyboardInterrupt\u001b[0m                         Traceback (most recent call last)",
      "\u001b[0;32m<ipython-input-3-ac2867f48408>\u001b[0m in \u001b[0;36m<module>\u001b[0;34m\u001b[0m\n\u001b[0;32m----> 1\u001b[0;31m \u001b[0mselect_cols\u001b[0m \u001b[0;34m=\u001b[0m \u001b[0minput\u001b[0m\u001b[0;34m(\u001b[0m\u001b[0;34m)\u001b[0m\u001b[0;34m\u001b[0m\u001b[0;34m\u001b[0m\u001b[0m\n\u001b[0m\u001b[1;32m      2\u001b[0m \u001b[0;32mif\u001b[0m\u001b[0;34m(\u001b[0m\u001b[0mint\u001b[0m\u001b[0;34m(\u001b[0m\u001b[0mselect_cols\u001b[0m\u001b[0;34m)\u001b[0m\u001b[0;34m)\u001b[0m\u001b[0;34m:\u001b[0m\u001b[0;34m\u001b[0m\u001b[0;34m\u001b[0m\u001b[0m\n\u001b[1;32m      3\u001b[0m     \u001b[0mdf\u001b[0m \u001b[0;34m=\u001b[0m \u001b[0mspark\u001b[0m\u001b[0;34m.\u001b[0m\u001b[0mread\u001b[0m\u001b[0;34m.\u001b[0m\u001b[0mcsv\u001b[0m\u001b[0;34m(\u001b[0m\u001b[0;34m'hdfs://localhost:9000/user/sidlohia/data/datasetfinal.csv'\u001b[0m\u001b[0;34m,\u001b[0m \u001b[0msep\u001b[0m\u001b[0;34m=\u001b[0m\u001b[0;34m','\u001b[0m\u001b[0;34m,\u001b[0m \u001b[0minferSchema\u001b[0m\u001b[0;34m=\u001b[0m\u001b[0;32mTrue\u001b[0m\u001b[0;34m,\u001b[0m \u001b[0mheader\u001b[0m\u001b[0;34m=\u001b[0m\u001b[0;32mTrue\u001b[0m\u001b[0;34m)\u001b[0m\u001b[0;34m.\u001b[0m\u001b[0mselect\u001b[0m\u001b[0;34m(\u001b[0m\u001b[0;34m\"Duration\"\u001b[0m\u001b[0;34m,\u001b[0m\u001b[0;34m\"Dst_bytes\"\u001b[0m\u001b[0;34m,\u001b[0m\u001b[0;34m\"Flag\"\u001b[0m\u001b[0;34m,\u001b[0m\u001b[0;34m\"Hot\"\u001b[0m\u001b[0;34m,\u001b[0m\u001b[0;34m\"Num_compromised\"\u001b[0m\u001b[0;34m,\u001b[0m\u001b[0;34m\"Count\"\u001b[0m\u001b[0;34m,\u001b[0m\u001b[0;34m\"Serror_rate\"\u001b[0m\u001b[0;34m,\u001b[0m\u001b[0;34m\"Rerror_rate\"\u001b[0m\u001b[0;34m,\u001b[0m\u001b[0;34m\"Same_srv_rate\"\u001b[0m\u001b[0;34m,\u001b[0m\u001b[0;34m\"Diff_srv_rate\"\u001b[0m\u001b[0;34m,\u001b[0m\u001b[0;34m\"Srv_count\"\u001b[0m\u001b[0;34m,\u001b[0m\u001b[0;34m\"Srv_serror_rate\"\u001b[0m\u001b[0;34m,\u001b[0m\u001b[0;34m\"Srv_rerror_rate\"\u001b[0m\u001b[0;34m,\u001b[0m\u001b[0;34m\"Srv_diff_host_rate\"\u001b[0m\u001b[0;34m,\u001b[0m\u001b[0;34m\"Dst_host_count\"\u001b[0m\u001b[0;34m,\u001b[0m\u001b[0;34m\"Dst_host_srv_count\"\u001b[0m\u001b[0;34m,\u001b[0m\u001b[0;34m\"Dst_host_same_srv_rate\"\u001b[0m\u001b[0;34m,\u001b[0m\u001b[0;34m\"Dst_host_diff_srv_rate\"\u001b[0m\u001b[0;34m,\u001b[0m\u001b[0;34m\"Dst_host_same_src_port_rate\"\u001b[0m\u001b[0;34m,\u001b[0m\u001b[0;34m\"Dst_host_srv_diff_host_rate\"\u001b[0m\u001b[0;34m,\u001b[0m\u001b[0;34m\"Dst_host_serror_rate\"\u001b[0m\u001b[0;34m,\u001b[0m\u001b[0;34m\"Dst_host_srv_serror_rate\"\u001b[0m\u001b[0;34m,\u001b[0m\u001b[0;34m\"Dst_host_rerror_rate\"\u001b[0m\u001b[0;34m,\u001b[0m\u001b[0;34m\"class\"\u001b[0m\u001b[0;34m,\u001b[0m\u001b[0;34m\"class_index\"\u001b[0m\u001b[0;34m)\u001b[0m\u001b[0;34m\u001b[0m\u001b[0;34m\u001b[0m\u001b[0m\n\u001b[1;32m      4\u001b[0m \u001b[0;32melse\u001b[0m\u001b[0;34m:\u001b[0m\u001b[0;34m\u001b[0m\u001b[0;34m\u001b[0m\u001b[0m\n\u001b[1;32m      5\u001b[0m     \u001b[0mdf\u001b[0m \u001b[0;34m=\u001b[0m \u001b[0mspark\u001b[0m\u001b[0;34m.\u001b[0m\u001b[0mread\u001b[0m\u001b[0;34m.\u001b[0m\u001b[0mcsv\u001b[0m\u001b[0;34m(\u001b[0m\u001b[0;34m'hdfs://localhost:9000/user/sidlohia/data/datasetfinal.csv'\u001b[0m\u001b[0;34m,\u001b[0m \u001b[0msep\u001b[0m\u001b[0;34m=\u001b[0m\u001b[0;34m','\u001b[0m\u001b[0;34m,\u001b[0m \u001b[0minferSchema\u001b[0m\u001b[0;34m=\u001b[0m\u001b[0;32mTrue\u001b[0m\u001b[0;34m,\u001b[0m \u001b[0mheader\u001b[0m\u001b[0;34m=\u001b[0m\u001b[0;32mTrue\u001b[0m\u001b[0;34m)\u001b[0m\u001b[0;34m\u001b[0m\u001b[0;34m\u001b[0m\u001b[0m\n",
      "\u001b[0;32m~/anaconda3/lib/python3.8/site-packages/ipykernel/kernelbase.py\u001b[0m in \u001b[0;36mraw_input\u001b[0;34m(self, prompt)\u001b[0m\n\u001b[1;32m    858\u001b[0m                 \u001b[0;34m\"raw_input was called, but this frontend does not support input requests.\"\u001b[0m\u001b[0;34m\u001b[0m\u001b[0;34m\u001b[0m\u001b[0m\n\u001b[1;32m    859\u001b[0m             )\n\u001b[0;32m--> 860\u001b[0;31m         return self._input_request(str(prompt),\n\u001b[0m\u001b[1;32m    861\u001b[0m             \u001b[0mself\u001b[0m\u001b[0;34m.\u001b[0m\u001b[0m_parent_ident\u001b[0m\u001b[0;34m,\u001b[0m\u001b[0;34m\u001b[0m\u001b[0;34m\u001b[0m\u001b[0m\n\u001b[1;32m    862\u001b[0m             \u001b[0mself\u001b[0m\u001b[0;34m.\u001b[0m\u001b[0m_parent_header\u001b[0m\u001b[0;34m,\u001b[0m\u001b[0;34m\u001b[0m\u001b[0;34m\u001b[0m\u001b[0m\n",
      "\u001b[0;32m~/anaconda3/lib/python3.8/site-packages/ipykernel/kernelbase.py\u001b[0m in \u001b[0;36m_input_request\u001b[0;34m(self, prompt, ident, parent, password)\u001b[0m\n\u001b[1;32m    902\u001b[0m             \u001b[0;32mexcept\u001b[0m \u001b[0mKeyboardInterrupt\u001b[0m\u001b[0;34m:\u001b[0m\u001b[0;34m\u001b[0m\u001b[0;34m\u001b[0m\u001b[0m\n\u001b[1;32m    903\u001b[0m                 \u001b[0;31m# re-raise KeyboardInterrupt, to truncate traceback\u001b[0m\u001b[0;34m\u001b[0m\u001b[0;34m\u001b[0m\u001b[0;34m\u001b[0m\u001b[0m\n\u001b[0;32m--> 904\u001b[0;31m                 \u001b[0;32mraise\u001b[0m \u001b[0mKeyboardInterrupt\u001b[0m\u001b[0;34m(\u001b[0m\u001b[0;34m\"Interrupted by user\"\u001b[0m\u001b[0;34m)\u001b[0m \u001b[0;32mfrom\u001b[0m \u001b[0;32mNone\u001b[0m\u001b[0;34m\u001b[0m\u001b[0;34m\u001b[0m\u001b[0m\n\u001b[0m\u001b[1;32m    905\u001b[0m             \u001b[0;32mexcept\u001b[0m \u001b[0mException\u001b[0m \u001b[0;32mas\u001b[0m \u001b[0me\u001b[0m\u001b[0;34m:\u001b[0m\u001b[0;34m\u001b[0m\u001b[0;34m\u001b[0m\u001b[0m\n\u001b[1;32m    906\u001b[0m                 \u001b[0mself\u001b[0m\u001b[0;34m.\u001b[0m\u001b[0mlog\u001b[0m\u001b[0;34m.\u001b[0m\u001b[0mwarning\u001b[0m\u001b[0;34m(\u001b[0m\u001b[0;34m\"Invalid Message:\"\u001b[0m\u001b[0;34m,\u001b[0m \u001b[0mexc_info\u001b[0m\u001b[0;34m=\u001b[0m\u001b[0;32mTrue\u001b[0m\u001b[0;34m)\u001b[0m\u001b[0;34m\u001b[0m\u001b[0;34m\u001b[0m\u001b[0m\n",
      "\u001b[0;31mKeyboardInterrupt\u001b[0m: Interrupted by user"
     ]
    }
   ],
   "source": [
    "select_cols = input()\n",
    "if(int(select_cols)):\n",
    "    df = spark.read.csv('hdfs://localhost:9000/user/sidlohia/data/datasetfinal.csv', sep=',', inferSchema=True, header=True).select(\"Duration\",\"Dst_bytes\",\"Flag\",\"Hot\",\"Num_compromised\",\"Count\",\"Serror_rate\",\"Rerror_rate\",\"Same_srv_rate\",\"Diff_srv_rate\",\"Srv_count\",\"Srv_serror_rate\",\"Srv_rerror_rate\",\"Srv_diff_host_rate\",\"Dst_host_count\",\"Dst_host_srv_count\",\"Dst_host_same_srv_rate\",\"Dst_host_diff_srv_rate\",\"Dst_host_same_src_port_rate\",\"Dst_host_srv_diff_host_rate\",\"Dst_host_serror_rate\",\"Dst_host_srv_serror_rate\",\"Dst_host_rerror_rate\",\"class\",\"class_index\")\n",
    "else:\n",
    "    df = spark.read.csv('hdfs://localhost:9000/user/sidlohia/data/datasetfinal.csv', sep=',', inferSchema=True, header=True)"
   ]
  },
  {
   "cell_type": "code",
   "execution_count": null,
   "id": "85150451",
   "metadata": {},
   "outputs": [],
   "source": [
    "spark.sparkContext"
   ]
  },
  {
   "cell_type": "code",
   "execution_count": null,
   "id": "0eb7c839",
   "metadata": {},
   "outputs": [],
   "source": [
    "df.dtypes"
   ]
  },
  {
   "cell_type": "code",
   "execution_count": null,
   "id": "18dfaee2",
   "metadata": {},
   "outputs": [],
   "source": [
    "catcols = [x for (x, dataType) in df.dtypes if dataType == \"string\"]\n",
    "numcols = [x for (x, dataType) in df.dtypes if ((dataType ==\"int\") | (dataType == \"double\") & (x != \"class_index\"))]"
   ]
  },
  {
   "cell_type": "code",
   "execution_count": null,
   "id": "8789f85a",
   "metadata": {},
   "outputs": [],
   "source": [
    "numcols"
   ]
  },
  {
   "cell_type": "code",
   "execution_count": null,
   "id": "3ef78a1a",
   "metadata": {},
   "outputs": [],
   "source": [
    "from pyspark.ml.feature import StandardScaler, VectorAssembler \n",
    "vector_assembler = VectorAssembler(inputCols = numcols, outputCol = \"features\")\n",
    "temptrain = vector_assembler.setHandleInvalid(\"skip\").transform(df).select(\"class_index\",\"features\")"
   ]
  },
  {
   "cell_type": "code",
   "execution_count": null,
   "id": "44101a99",
   "metadata": {},
   "outputs": [],
   "source": [
    "# temptrain.select(\"class_index\",\"features\").show(5)"
   ]
  },
  {
   "cell_type": "code",
   "execution_count": null,
   "id": "9a5e2deb",
   "metadata": {},
   "outputs": [],
   "source": [
    "df = StandardScaler(inputCol = \"features\", outputCol=\"scaledfeatures\").fit(temptrain).transform(temptrain)"
   ]
  },
  {
   "cell_type": "code",
   "execution_count": null,
   "id": "bbece1a0",
   "metadata": {},
   "outputs": [],
   "source": [
    "# train, test = df.randomSplit([0.7, 0.3], seed = 2022)"
   ]
  },
  {
   "cell_type": "code",
   "execution_count": null,
   "id": "239aa6f8",
   "metadata": {},
   "outputs": [],
   "source": [
    "# train.select(\"scaledfeatures\").show(5)"
   ]
  },
  {
   "cell_type": "code",
   "execution_count": null,
   "id": "3dad3f9d",
   "metadata": {},
   "outputs": [],
   "source": [
    "select_classifier = input()"
   ]
  },
  {
   "cell_type": "code",
   "execution_count": null,
   "id": "abf357cc",
   "metadata": {},
   "outputs": [],
   "source": [
    "if(int(select_classifier)):\n",
    "    model = RandomForestClassifier(featuresCol = 'scaledfeatures', labelCol = 'class_index').fit(df)\n",
    "else:\n",
    "    model = NaiveBayes(smoothing=1.0, modelType=\"multinomial\", featuresCol = 'scaledfeatures', labelCol = 'class_index').fit(df)"
   ]
  },
  {
   "cell_type": "code",
   "execution_count": 4,
   "id": "960fc081",
   "metadata": {},
   "outputs": [],
   "source": [
    "test = spark.read.csv('/home/sidlohia/Majorproject/NSLKDD/KDDTrain+.csv')"
   ]
  },
  {
   "cell_type": "code",
   "execution_count": null,
   "id": "3c863d1b",
   "metadata": {},
   "outputs": [],
   "source": [
    "predictions = model.transform(test)"
   ]
  },
  {
   "cell_type": "code",
   "execution_count": null,
   "id": "28097035",
   "metadata": {},
   "outputs": [],
   "source": [
    "predictions.show()"
   ]
  },
  {
   "cell_type": "code",
   "execution_count": null,
   "id": "8beb7059",
   "metadata": {},
   "outputs": [],
   "source": [
    "evaluator = MulticlassClassificationEvaluator( labelCol=\"class_index\", predictionCol=\"prediction\", metricName=\"accuracy\")"
   ]
  },
  {
   "cell_type": "code",
   "execution_count": null,
   "id": "09f82ead",
   "metadata": {},
   "outputs": [],
   "source": [
    "accuracy = evaluator.evaluate(predictions)\n",
    "accuracy"
   ]
  },
  {
   "cell_type": "code",
   "execution_count": null,
   "id": "5660ea9a",
   "metadata": {},
   "outputs": [],
   "source": [
    "# rf.featureImportances"
   ]
  },
  {
   "cell_type": "code",
   "execution_count": null,
   "id": "1baf764d",
   "metadata": {},
   "outputs": [],
   "source": [
    "if(int(select_classifier)):\n",
    "    figure(figsize=(12, 10), dpi=100)\n",
    "    plt.barh(numcols, model.featureImportances)"
   ]
  },
  {
   "cell_type": "code",
   "execution_count": null,
   "id": "c5acfa82",
   "metadata": {},
   "outputs": [],
   "source": [
    "# model.save('/home/sidlohia/rfmodel')"
   ]
  },
  {
   "cell_type": "code",
   "execution_count": null,
   "id": "9290b1f4",
   "metadata": {},
   "outputs": [],
   "source": [
    "# rf = RandomForestClassificationModel.load('hdfs://localhost:9000/user/sidlohia/data/rfmodel')"
   ]
  },
  {
   "cell_type": "code",
   "execution_count": null,
   "id": "43124418",
   "metadata": {},
   "outputs": [],
   "source": [
    "# rf"
   ]
  },
  {
   "cell_type": "code",
   "execution_count": null,
   "id": "989e0a82",
   "metadata": {},
   "outputs": [],
   "source": []
  }
 ],
 "metadata": {
  "kernelspec": {
   "display_name": "Python 3",
   "language": "python",
   "name": "python3"
  },
  "language_info": {
   "codemirror_mode": {
    "name": "ipython",
    "version": 3
   },
   "file_extension": ".py",
   "mimetype": "text/x-python",
   "name": "python",
   "nbconvert_exporter": "python",
   "pygments_lexer": "ipython3",
   "version": "3.8.8"
  }
 },
 "nbformat": 4,
 "nbformat_minor": 5
}
