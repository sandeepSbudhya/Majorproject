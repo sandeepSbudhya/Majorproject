{
 "cells": [
  {
   "cell_type": "code",
   "execution_count": 1,
   "id": "9548ee9a",
   "metadata": {},
   "outputs": [],
   "source": [
    "import sys\n",
    "import os\n",
    "import pandas as pd\n",
    "import numpy as np\n",
    "from pyspark.mllib.feature import StandardScaler\n",
    "from pyspark.ml.classification import RandomForestClassifier\n",
    "from pyspark.ml.classification import NaiveBayes\n",
    "from matplotlib import pyplot as plt\n",
    "from matplotlib.pyplot import figure\n",
    "from pyspark.sql import SparkSession\n",
    "from pyspark.ml.linalg import Vectors\n",
    "from pyspark.ml.feature import VectorSlicer\n",
    "from pyspark.ml.evaluation import MulticlassClassificationEvaluator"
   ]
  },
  {
   "cell_type": "code",
   "execution_count": 2,
   "id": "5549565d",
   "metadata": {},
   "outputs": [
    {
     "name": "stderr",
     "output_type": "stream",
     "text": [
      "22/03/09 15:37:01 WARN Utils: Your hostname, sandeep-pc resolves to a loopback address: 127.0.1.1; using 192.168.29.58 instead (on interface enp4s0)\n",
      "22/03/09 15:37:01 WARN Utils: Set SPARK_LOCAL_IP if you need to bind to another address\n",
      "WARNING: An illegal reflective access operation has occurred\n",
      "WARNING: Illegal reflective access by org.apache.spark.unsafe.Platform (file:/home/sandeep/anaconda3/envs/pysparkenv/lib/python3.9/site-packages/pyspark/jars/spark-unsafe_2.12-3.1.2.jar) to constructor java.nio.DirectByteBuffer(long,int)\n",
      "WARNING: Please consider reporting this to the maintainers of org.apache.spark.unsafe.Platform\n",
      "WARNING: Use --illegal-access=warn to enable warnings of further illegal reflective access operations\n",
      "WARNING: All illegal access operations will be denied in a future release\n",
      "22/03/09 15:37:01 WARN NativeCodeLoader: Unable to load native-hadoop library for your platform... using builtin-java classes where applicable\n",
      "Using Spark's default log4j profile: org/apache/spark/log4j-defaults.properties\n",
      "Setting default log level to \"WARN\".\n",
      "To adjust logging level use sc.setLogLevel(newLevel). For SparkR, use setLogLevel(newLevel).\n"
     ]
    }
   ],
   "source": [
    "spark = SparkSession.builder.config(\"spark.executor.pyspark.memory\", \"6g\") \\\n",
    "        .config(\"spark.executor.memory\", \"6g\").config(\"spark.driver.memory\", \"6g\") \\\n",
    "        .config(\"spark.driver.maxResultSize\", \"6g\").getOrCreate()"
   ]
  },
  {
   "cell_type": "code",
   "execution_count": 3,
   "id": "a8d6956e",
   "metadata": {},
   "outputs": [
    {
     "name": "stderr",
     "output_type": "stream",
     "text": [
      "                                                                                \r"
     ]
    }
   ],
   "source": [
    "df = spark.read.csv('hdfs://localhost:9000/user/sandeep/data/datasetfinal.csv', sep=',', inferSchema=True, header=True).select(\"Duration\",\"Dst_bytes\",\"Flag\",\"Hot\",\"Num_compromised\",\"Count\",\"Serror_rate\",\"Rerror_rate\",\"Same_srv_rate\",\"Diff_srv_rate\",\"Srv_count\",\"Srv_serror_rate\",\"Srv_rerror_rate\",\"Srv_diff_host_rate\",\"Dst_host_count\",\"Dst_host_srv_count\",\"Dst_host_same_srv_rate\",\"Dst_host_diff_srv_rate\",\"Dst_host_same_src_port_rate\",\"Dst_host_srv_diff_host_rate\",\"Dst_host_serror_rate\",\"Dst_host_srv_serror_rate\",\"Dst_host_rerror_rate\",\"class\",\"class_index\")"
   ]
  },
  {
   "cell_type": "code",
   "execution_count": 26,
   "id": "deab7be6",
   "metadata": {},
   "outputs": [
    {
     "name": "stderr",
     "output_type": "stream",
     "text": [
      "                                                                                \r"
     ]
    }
   ],
   "source": [
    "# df = spark.read.csv('hdfs://localhost:9000/user/sandeep/data/datasetfinal.csv', sep=',', inferSchema=True, header=True)"
   ]
  },
  {
   "cell_type": "code",
   "execution_count": 4,
   "id": "85150451",
   "metadata": {},
   "outputs": [
    {
     "data": {
      "text/html": [
       "\n",
       "        <div>\n",
       "            <p><b>SparkContext</b></p>\n",
       "\n",
       "            <p><a href=\"http://192.168.29.58:4040\">Spark UI</a></p>\n",
       "\n",
       "            <dl>\n",
       "              <dt>Version</dt>\n",
       "                <dd><code>v3.1.2</code></dd>\n",
       "              <dt>Master</dt>\n",
       "                <dd><code>local[*]</code></dd>\n",
       "              <dt>AppName</dt>\n",
       "                <dd><code>pyspark-shell</code></dd>\n",
       "            </dl>\n",
       "        </div>\n",
       "        "
      ],
      "text/plain": [
       "<SparkContext master=local[*] appName=pyspark-shell>"
      ]
     },
     "execution_count": 4,
     "metadata": {},
     "output_type": "execute_result"
    }
   ],
   "source": [
    "spark.sparkContext"
   ]
  },
  {
   "cell_type": "code",
   "execution_count": 5,
   "id": "0eb7c839",
   "metadata": {},
   "outputs": [
    {
     "data": {
      "text/plain": [
       "[('Duration', 'int'),\n",
       " ('Dst_bytes', 'int'),\n",
       " ('Flag', 'int'),\n",
       " ('Hot', 'int'),\n",
       " ('Num_compromised', 'int'),\n",
       " ('Count', 'int'),\n",
       " ('Serror_rate', 'int'),\n",
       " ('Rerror_rate', 'double'),\n",
       " ('Same_srv_rate', 'double'),\n",
       " ('Diff_srv_rate', 'double'),\n",
       " ('Srv_count', 'double'),\n",
       " ('Srv_serror_rate', 'double'),\n",
       " ('Srv_rerror_rate', 'double'),\n",
       " ('Srv_diff_host_rate', 'double'),\n",
       " ('Dst_host_count', 'int'),\n",
       " ('Dst_host_srv_count', 'int'),\n",
       " ('Dst_host_same_srv_rate', 'double'),\n",
       " ('Dst_host_diff_srv_rate', 'double'),\n",
       " ('Dst_host_same_src_port_rate', 'double'),\n",
       " ('Dst_host_srv_diff_host_rate', 'double'),\n",
       " ('Dst_host_serror_rate', 'double'),\n",
       " ('Dst_host_srv_serror_rate', 'double'),\n",
       " ('Dst_host_rerror_rate', 'double'),\n",
       " ('class', 'string'),\n",
       " ('class_index', 'double')]"
      ]
     },
     "execution_count": 5,
     "metadata": {},
     "output_type": "execute_result"
    }
   ],
   "source": [
    "df.dtypes"
   ]
  },
  {
   "cell_type": "code",
   "execution_count": 6,
   "id": "18dfaee2",
   "metadata": {},
   "outputs": [],
   "source": [
    "catcols = [x for (x, dataType) in df.dtypes if dataType == \"string\"]\n",
    "numcols = [x for (x, dataType) in df.dtypes if ((dataType ==\"int\") | (dataType == \"double\") & (x != \"class_index\"))]"
   ]
  },
  {
   "cell_type": "code",
   "execution_count": 7,
   "id": "8789f85a",
   "metadata": {},
   "outputs": [
    {
     "data": {
      "text/plain": [
       "['Duration',\n",
       " 'Dst_bytes',\n",
       " 'Flag',\n",
       " 'Hot',\n",
       " 'Num_compromised',\n",
       " 'Count',\n",
       " 'Serror_rate',\n",
       " 'Rerror_rate',\n",
       " 'Same_srv_rate',\n",
       " 'Diff_srv_rate',\n",
       " 'Srv_count',\n",
       " 'Srv_serror_rate',\n",
       " 'Srv_rerror_rate',\n",
       " 'Srv_diff_host_rate',\n",
       " 'Dst_host_count',\n",
       " 'Dst_host_srv_count',\n",
       " 'Dst_host_same_srv_rate',\n",
       " 'Dst_host_diff_srv_rate',\n",
       " 'Dst_host_same_src_port_rate',\n",
       " 'Dst_host_srv_diff_host_rate',\n",
       " 'Dst_host_serror_rate',\n",
       " 'Dst_host_srv_serror_rate',\n",
       " 'Dst_host_rerror_rate']"
      ]
     },
     "execution_count": 7,
     "metadata": {},
     "output_type": "execute_result"
    }
   ],
   "source": [
    "numcols"
   ]
  },
  {
   "cell_type": "code",
   "execution_count": 8,
   "id": "3ef78a1a",
   "metadata": {},
   "outputs": [],
   "source": [
    "from pyspark.ml.feature import StandardScaler, VectorAssembler \n",
    "vector_assembler = VectorAssembler(inputCols = numcols, outputCol = \"features\")\n",
    "temptrain = vector_assembler.setHandleInvalid(\"skip\").transform(df).select(\"class_index\",\"features\")"
   ]
  },
  {
   "cell_type": "code",
   "execution_count": 9,
   "id": "44101a99",
   "metadata": {},
   "outputs": [],
   "source": [
    "# temptrain.select(\"class_index\",\"features\").show(5)"
   ]
  },
  {
   "cell_type": "code",
   "execution_count": 10,
   "id": "9a5e2deb",
   "metadata": {},
   "outputs": [
    {
     "name": "stderr",
     "output_type": "stream",
     "text": [
      "22/03/09 15:37:44 WARN package: Truncated the string representation of a plan since it was too large. This behavior can be adjusted by setting 'spark.sql.debug.maxToStringFields'.\n",
      "                                                                                \r"
     ]
    }
   ],
   "source": [
    "df = StandardScaler(inputCol = \"features\", outputCol=\"scaledfeatures\").fit(temptrain).transform(temptrain)"
   ]
  },
  {
   "cell_type": "code",
   "execution_count": 11,
   "id": "bbece1a0",
   "metadata": {},
   "outputs": [],
   "source": [
    "train, test = df.randomSplit([0.7, 0.3], seed = 2022)"
   ]
  },
  {
   "cell_type": "code",
   "execution_count": 12,
   "id": "239aa6f8",
   "metadata": {},
   "outputs": [
    {
     "name": "stderr",
     "output_type": "stream",
     "text": [
      "[Stage 4:>                                                          (0 + 1) / 1]\r"
     ]
    },
    {
     "name": "stdout",
     "output_type": "stream",
     "text": [
      "+--------------------+\n",
      "|      scaledfeatures|\n",
      "+--------------------+\n",
      "|(23,[1,5,6,11,14,...|\n",
      "|(23,[1,5,6,11,14,...|\n",
      "|(23,[1,5,6,11,14,...|\n",
      "|(23,[1,5,6,11,14,...|\n",
      "|(23,[1,5,6,11,14,...|\n",
      "+--------------------+\n",
      "only showing top 5 rows\n",
      "\n"
     ]
    },
    {
     "name": "stderr",
     "output_type": "stream",
     "text": [
      "                                                                                \r"
     ]
    }
   ],
   "source": [
    "train.select(\"scaledfeatures\").show(5)"
   ]
  },
  {
   "cell_type": "code",
   "execution_count": 13,
   "id": "abf357cc",
   "metadata": {},
   "outputs": [
    {
     "name": "stderr",
     "output_type": "stream",
     "text": [
      "                                                                                \r"
     ]
    }
   ],
   "source": [
    "rf = RandomForestClassifier(featuresCol = 'scaledfeatures', labelCol = 'class_index').fit(train)"
   ]
  },
  {
   "cell_type": "code",
   "execution_count": 36,
   "id": "98435b44-0ea1-4c2d-aee3-e4b878b4b2ef",
   "metadata": {},
   "outputs": [
    {
     "name": "stderr",
     "output_type": "stream",
     "text": [
      "                                                                                \r"
     ]
    }
   ],
   "source": [
    "nb = NaiveBayes(smoothing=1.0, modelType=\"multinomial\", featuresCol = 'scaledfeatures', labelCol = 'class_index').fit(train)"
   ]
  },
  {
   "cell_type": "code",
   "execution_count": 14,
   "id": "3c863d1b",
   "metadata": {},
   "outputs": [],
   "source": [
    "predictions = rf.transform(test)"
   ]
  },
  {
   "cell_type": "code",
   "execution_count": 37,
   "id": "95514687-9c25-4660-8bb7-25fe041b2c83",
   "metadata": {},
   "outputs": [],
   "source": [
    "predictionsnb = nb.transform(test)"
   ]
  },
  {
   "cell_type": "code",
   "execution_count": 15,
   "id": "28097035",
   "metadata": {},
   "outputs": [
    {
     "name": "stderr",
     "output_type": "stream",
     "text": [
      "[Stage 21:>                                                         (0 + 1) / 1]\r"
     ]
    },
    {
     "name": "stdout",
     "output_type": "stream",
     "text": [
      "+-----------+--------------------+--------------------+--------------------+--------------------+----------+\n",
      "|class_index|            features|      scaledfeatures|       rawPrediction|         probability|prediction|\n",
      "+-----------+--------------------+--------------------+--------------------+--------------------+----------+\n",
      "|        0.0|(23,[1,5,6,11,14,...|(23,[1,5,6,11,14,...|[0.11546930116684...|[0.00577346505834...|       2.0|\n",
      "|        0.0|(23,[1,5,6,11,14,...|(23,[1,5,6,11,14,...|[0.11615704168048...|[0.00580785208402...|       2.0|\n",
      "|        0.0|(23,[1,5,6,11,14,...|(23,[1,5,6,11,14,...|[6.08245729550204...|[0.30412286477510...|       2.0|\n",
      "|        0.0|(23,[1,5,6,11,14,...|(23,[1,5,6,11,14,...|[6.08245729550204...|[0.30412286477510...|       2.0|\n",
      "|        0.0|(23,[1,5,6,11,14,...|(23,[1,5,6,11,14,...|[6.08314503601568...|[0.30415725180078...|       2.0|\n",
      "|        0.0|(23,[1,5,6,11,14,...|(23,[1,5,6,11,14,...|[6.08314503601568...|[0.30415725180078...|       2.0|\n",
      "|        0.0|(23,[1,5,6,11,14,...|(23,[1,5,6,11,14,...|[19.0048517343567...|[0.95024258671783...|       0.0|\n",
      "|        0.0|(23,[1,5,6,11,14,...|(23,[1,5,6,11,14,...|[19.0048517343567...|[0.95024258671783...|       0.0|\n",
      "|        0.0|(23,[1,5,6,11,14,...|(23,[1,5,6,11,14,...|[19.0048517343567...|[0.95024258671783...|       0.0|\n",
      "|        0.0|(23,[1,5,6,11,14,...|(23,[1,5,6,11,14,...|[19.0048517343567...|[0.95024258671783...|       0.0|\n",
      "|        0.0|(23,[1,5,6,11,14,...|(23,[1,5,6,11,14,...|[19.0048517343567...|[0.95024258671783...|       0.0|\n",
      "|        0.0|(23,[1,5,6,11,14,...|(23,[1,5,6,11,14,...|[19.0048517343567...|[0.95024258671783...|       0.0|\n",
      "|        0.0|(23,[1,5,6,11,14,...|(23,[1,5,6,11,14,...|[19.0048517343567...|[0.95024258671783...|       0.0|\n",
      "|        0.0|(23,[1,5,6,11,14,...|(23,[1,5,6,11,14,...|[19.0048517343567...|[0.95024258671783...|       0.0|\n",
      "|        0.0|(23,[1,5,6,11,14,...|(23,[1,5,6,11,14,...|[19.0048517343567...|[0.95024258671783...|       0.0|\n",
      "|        0.0|(23,[1,5,6,11,14,...|(23,[1,5,6,11,14,...|[19.0048517343567...|[0.95024258671783...|       0.0|\n",
      "|        0.0|(23,[1,5,6,11,14,...|(23,[1,5,6,11,14,...|[19.0048517343567...|[0.95024258671783...|       0.0|\n",
      "|        0.0|(23,[1,5,6,11,14,...|(23,[1,5,6,11,14,...|[19.0048517343567...|[0.95024258671783...|       0.0|\n",
      "|        0.0|(23,[1,5,6,11,14,...|(23,[1,5,6,11,14,...|[19.0048517343567...|[0.95024258671783...|       0.0|\n",
      "|        0.0|(23,[1,5,6,11,14,...|(23,[1,5,6,11,14,...|[19.0048517343567...|[0.95024258671783...|       0.0|\n",
      "+-----------+--------------------+--------------------+--------------------+--------------------+----------+\n",
      "only showing top 20 rows\n",
      "\n"
     ]
    },
    {
     "name": "stderr",
     "output_type": "stream",
     "text": [
      "                                                                                \r"
     ]
    }
   ],
   "source": [
    "predictions.show()"
   ]
  },
  {
   "cell_type": "code",
   "execution_count": 38,
   "id": "ec39aa6d-1a41-4277-8352-28c4ede531ea",
   "metadata": {},
   "outputs": [
    {
     "name": "stderr",
     "output_type": "stream",
     "text": [
      "[Stage 31:>                                                         (0 + 1) / 1]\r"
     ]
    },
    {
     "name": "stdout",
     "output_type": "stream",
     "text": [
      "+-----------+--------------------+--------------------+--------------------+--------------------+----------+\n",
      "|class_index|            features|      scaledfeatures|       rawPrediction|         probability|prediction|\n",
      "+-----------+--------------------+--------------------+--------------------+--------------------+----------+\n",
      "|        0.0|(38,[1,19,20,25,2...|(38,[1,19,20,25,2...|[-16.326623933595...|[0.94166141903755...|       0.0|\n",
      "|        0.0|(38,[1,19,20,25,2...|(38,[1,19,20,25,2...|[-20.703139636030...|[0.98169194286753...|       0.0|\n",
      "|        0.0|(38,[1,19,20,25,2...|(38,[1,19,20,25,2...|[-22.131360104008...|[0.99999851259307...|       0.0|\n",
      "|        0.0|(38,[1,19,20,25,2...|(38,[1,19,20,25,2...|[-22.192102777966...|[0.99999857173088...|       0.0|\n",
      "|        0.0|(38,[1,19,20,25,2...|(38,[1,19,20,25,2...|[-30.499643890638...|[0.99999987004010...|       0.0|\n",
      "|        0.0|(38,[1,19,20,25,2...|(38,[1,19,20,25,2...|[-30.630267216006...|[0.99999987923256...|       0.0|\n",
      "|        0.0|(38,[1,19,20,25,2...|(38,[1,19,20,25,2...|[-24.132680804207...|[0.99999999080660...|       0.0|\n",
      "|        0.0|(38,[1,19,20,25,2...|(38,[1,19,20,25,2...|[-29.940427364729...|[0.99999999928368...|       0.0|\n",
      "|        0.0|(38,[1,19,20,25,2...|(38,[1,19,20,25,2...|[-32.080340286686...|[0.99999999961175...|       0.0|\n",
      "|        0.0|(38,[1,19,20,25,2...|(38,[1,19,20,25,2...|[-21.790972652956...|[0.99999998018304...|       0.0|\n",
      "|        0.0|(38,[1,19,20,25,2...|(38,[1,19,20,25,2...|[-26.587245128085...|[0.99999999827084...|       0.0|\n",
      "|        0.0|(38,[1,19,20,25,2...|(38,[1,19,20,25,2...|[-27.767284585107...|[0.99999999869976...|       0.0|\n",
      "|        0.0|(38,[1,19,20,25,2...|(38,[1,19,20,25,2...|[-27.903108070461...|[0.99999999875782...|       0.0|\n",
      "|        0.0|(38,[1,19,20,25,2...|(38,[1,19,20,25,2...|[-30.653068076832...|[0.99999999943491...|       0.0|\n",
      "|        0.0|(38,[1,19,20,25,2...|(38,[1,19,20,25,2...|[-31.647902793452...|[0.99999999957533...|       0.0|\n",
      "|        0.0|(38,[1,19,20,25,2...|(38,[1,19,20,25,2...|[-35.796441716784...|[0.99999999987010...|       0.0|\n",
      "|        0.0|(38,[1,19,20,25,2...|(38,[1,19,20,25,2...|[-20.960349394942...|[0.99999996704206...|       0.0|\n",
      "|        0.0|(38,[1,19,20,25,2...|(38,[1,19,20,25,2...|[-21.096172880296...|[0.99999997088483...|       0.0|\n",
      "|        0.0|(38,[1,19,20,25,2...|(38,[1,19,20,25,2...|[-21.452719253085...|[0.99999997691007...|       0.0|\n",
      "|        0.0|(38,[1,19,20,25,2...|(38,[1,19,20,25,2...|[-21.630992439480...|[0.99999997905277...|       0.0|\n",
      "+-----------+--------------------+--------------------+--------------------+--------------------+----------+\n",
      "only showing top 20 rows\n",
      "\n"
     ]
    },
    {
     "name": "stderr",
     "output_type": "stream",
     "text": [
      "                                                                                \r"
     ]
    }
   ],
   "source": [
    "predictionsnb.show()"
   ]
  },
  {
   "cell_type": "code",
   "execution_count": 16,
   "id": "8beb7059",
   "metadata": {},
   "outputs": [],
   "source": [
    "evaluator = MulticlassClassificationEvaluator( labelCol=\"class_index\", predictionCol=\"prediction\", metricName=\"accuracy\")"
   ]
  },
  {
   "cell_type": "code",
   "execution_count": 17,
   "id": "09f82ead",
   "metadata": {},
   "outputs": [
    {
     "name": "stderr",
     "output_type": "stream",
     "text": [
      "                                                                                \r"
     ]
    },
    {
     "data": {
      "text/plain": [
       "0.9953292361242934"
      ]
     },
     "execution_count": 17,
     "metadata": {},
     "output_type": "execute_result"
    }
   ],
   "source": [
    "accuracy = evaluator.evaluate(predictions)\n",
    "accuracy"
   ]
  },
  {
   "cell_type": "code",
   "execution_count": 40,
   "id": "a22adf35-ae15-4b8a-b5f6-fb1a97364b74",
   "metadata": {},
   "outputs": [
    {
     "name": "stderr",
     "output_type": "stream",
     "text": [
      "                                                                                \r"
     ]
    },
    {
     "data": {
      "text/plain": [
       "0.9176162979382643"
      ]
     },
     "execution_count": 40,
     "metadata": {},
     "output_type": "execute_result"
    }
   ],
   "source": [
    "accuracy = evaluator.evaluate(predictionsnb)\n",
    "accuracy"
   ]
  },
  {
   "cell_type": "code",
   "execution_count": 20,
   "id": "5660ea9a",
   "metadata": {},
   "outputs": [],
   "source": [
    "# rf.featureImportances"
   ]
  },
  {
   "cell_type": "code",
   "execution_count": 18,
   "id": "1baf764d",
   "metadata": {},
   "outputs": [
    {
     "data": {
      "text/plain": [
       "<BarContainer object of 23 artists>"
      ]
     },
     "execution_count": 18,
     "metadata": {},
     "output_type": "execute_result"
    },
    {
     "data": {
      "image/png": "[encoded data removed]",
      "text/plain": [
       "<Figure size 1200x1000 with 1 Axes>"
      ]
     },
     "metadata": {
      "needs_background": "light"
     },
     "output_type": "display_data"
    }
   ],
   "source": [
    "figure(figsize=(12, 10), dpi=100)\n",
    "plt.barh(numcols, rf.featureImportances)"
   ]
  },
  {
   "cell_type": "code",
   "execution_count": 23,
   "id": "5a3a0025",
   "metadata": {},
   "outputs": [],
   "source": [
    "# train = VectorSlicer(inputCol=\"scaledfeatures\", outputCol=\"ssifeatures\").setIndices(0,1).transform(train)"
   ]
  },
  {
   "cell_type": "code",
   "execution_count": 20,
   "id": "bc7e94d3",
   "metadata": {},
   "outputs": [],
   "source": [
    "# df.select(\"ssifeatures\").show(10)"
   ]
  },
  {
   "cell_type": "code",
   "execution_count": null,
   "id": "b2ba292f",
   "metadata": {},
   "outputs": [],
   "source": []
  }
 ],
 "metadata": {
  "kernelspec": {
   "display_name": "Python 3 (ipykernel)",
   "language": "python",
   "name": "python3"
  },
  "language_info": {
   "codemirror_mode": {
    "name": "ipython",
    "version": 3
   },
   "file_extension": ".py",
   "mimetype": "text/x-python",
   "name": "python",
   "nbconvert_exporter": "python",
   "pygments_lexer": "ipython3",
   "version": "3.9.7"
  }
 },
 "nbformat": 4,
 "nbformat_minor": 5
}
